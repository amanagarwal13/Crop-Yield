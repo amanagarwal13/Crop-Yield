{
 "cells": [
  {
   "cell_type": "markdown",
   "id": "555c9b0f",
   "metadata": {
    "papermill": {
     "duration": 0.032142,
     "end_time": "2022-01-26T05:44:19.101293",
     "exception": false,
     "start_time": "2022-01-26T05:44:19.069151",
     "status": "completed"
    },
    "tags": []
   },
   "source": []
  },
  {
   "cell_type": "markdown",
   "id": "9e623642",
   "metadata": {
    "papermill": {
     "duration": 0.032205,
     "end_time": "2022-01-26T05:44:19.165261",
     "exception": false,
     "start_time": "2022-01-26T05:44:19.133056",
     "status": "completed"
    },
    "tags": []
   },
   "source": [
    "**Crop Recommendation:**\n",
    "\n",
    "Based on predicted rainfall, soil contents and weather parameters the system will recommend the most suitable crop for cultivation. This system also provides details about required fertilizers like Nitrogen(N), Phosphorus (P) and potassium(K) in Kg per hectare and display the required seed for a cultivation in Kg per acre for recommended crop.This system as contain some other feature such as display thecurrent market price and approximated yield in quintal per acre for recommended crop. Those all details will helps to farmers for choosing the most profitable crop."
   ]
  },
  {
   "cell_type": "markdown",
   "id": "221dfefd",
   "metadata": {
    "papermill": {
     "duration": 0.029754,
     "end_time": "2022-01-26T05:44:19.225663",
     "exception": false,
     "start_time": "2022-01-26T05:44:19.195909",
     "status": "completed"
    },
    "tags": []
   },
   "source": [
    "Crop prediction is an essential task for the decision-makers at national and regional levels for rapid decision-making. An accurate crop yield prediction model can help farmers to decide on what to grow and when to grow.The dataset contains following 21 crops:\n",
    "**['rice', 'maize', 'chickpea', 'kidneybeans', 'pigeonpeas', 'mothbeans', 'mungbean', 'blackgram', 'lentil', 'pomegranate', 'banana', 'mango', 'grapes', 'watermelon', 'muskmelon', 'apple', 'orange', 'papaya', 'coconut', 'cotton', 'jute', 'coffee']**"
   ]
  },
  {
   "cell_type": "code",
   "execution_count": 1,
   "id": "3a2c6d8f",
   "metadata": {
    "execution": {
     "iopub.execute_input": "2022-01-26T05:44:19.290028Z",
     "iopub.status.busy": "2022-01-26T05:44:19.288852Z",
     "iopub.status.idle": "2022-01-26T05:44:20.770960Z",
     "shell.execute_reply": "2022-01-26T05:44:20.770252Z",
     "shell.execute_reply.started": "2022-01-26T05:39:24.404992Z"
    },
    "papermill": {
     "duration": 1.515248,
     "end_time": "2022-01-26T05:44:20.771158",
     "exception": false,
     "start_time": "2022-01-26T05:44:19.255910",
     "status": "completed"
    },
    "tags": []
   },
   "outputs": [],
   "source": [
    "#pandas\n",
    "import pandas as pd \n",
    "\n",
    "#matplotlib\n",
    "import matplotlib.pyplot as plt \n",
    "\n",
    "#seaborn\n",
    "import seaborn as sns\n",
    "\n",
    "#numpy\n",
    "import numpy as np\n",
    "\n",
    "#sklearn\n",
    "from sklearn.metrics import confusion_matrix,classification_report\n",
    "from sklearn.linear_model import LogisticRegression\n",
    "from sklearn.ensemble import RandomForestClassifier\n",
    "from sklearn.svm import SVC\n",
    "from sklearn.preprocessing import StandardScaler\n",
    "from sklearn.model_selection import train_test_split"
   ]
  },
  {
   "cell_type": "markdown",
   "id": "ea149c4d",
   "metadata": {
    "papermill": {
     "duration": 0.030095,
     "end_time": "2022-01-26T05:44:20.834491",
     "exception": false,
     "start_time": "2022-01-26T05:44:20.804396",
     "status": "completed"
    },
    "tags": []
   },
   "source": [
    "### **Read Dataset**"
   ]
  },
  {
   "cell_type": "code",
   "execution_count": 2,
   "id": "22a0c329",
   "metadata": {
    "execution": {
     "iopub.execute_input": "2022-01-26T05:44:20.902057Z",
     "iopub.status.busy": "2022-01-26T05:44:20.901342Z",
     "iopub.status.idle": "2022-01-26T05:44:20.957131Z",
     "shell.execute_reply": "2022-01-26T05:44:20.957671Z",
     "shell.execute_reply.started": "2022-01-26T05:39:25.721141Z"
    },
    "papermill": {
     "duration": 0.091811,
     "end_time": "2022-01-26T05:44:20.958025",
     "exception": false,
     "start_time": "2022-01-26T05:44:20.866214",
     "status": "completed"
    },
    "tags": []
   },
   "outputs": [
    {
     "data": {
      "text/html": [
       "<div>\n",
       "<style scoped>\n",
       "    .dataframe tbody tr th:only-of-type {\n",
       "        vertical-align: middle;\n",
       "    }\n",
       "\n",
       "    .dataframe tbody tr th {\n",
       "        vertical-align: top;\n",
       "    }\n",
       "\n",
       "    .dataframe thead th {\n",
       "        text-align: right;\n",
       "    }\n",
       "</style>\n",
       "<table border=\"1\" class=\"dataframe\">\n",
       "  <thead>\n",
       "    <tr style=\"text-align: right;\">\n",
       "      <th></th>\n",
       "      <th>N</th>\n",
       "      <th>P</th>\n",
       "      <th>K</th>\n",
       "      <th>temperature</th>\n",
       "      <th>humidity</th>\n",
       "      <th>ph</th>\n",
       "      <th>rainfall</th>\n",
       "      <th>label</th>\n",
       "    </tr>\n",
       "  </thead>\n",
       "  <tbody>\n",
       "    <tr>\n",
       "      <th>0</th>\n",
       "      <td>90</td>\n",
       "      <td>42</td>\n",
       "      <td>43</td>\n",
       "      <td>20.879744</td>\n",
       "      <td>82.002744</td>\n",
       "      <td>6.502985</td>\n",
       "      <td>202.935536</td>\n",
       "      <td>rice</td>\n",
       "    </tr>\n",
       "    <tr>\n",
       "      <th>1</th>\n",
       "      <td>85</td>\n",
       "      <td>58</td>\n",
       "      <td>41</td>\n",
       "      <td>21.770462</td>\n",
       "      <td>80.319644</td>\n",
       "      <td>7.038096</td>\n",
       "      <td>226.655537</td>\n",
       "      <td>rice</td>\n",
       "    </tr>\n",
       "    <tr>\n",
       "      <th>2</th>\n",
       "      <td>60</td>\n",
       "      <td>55</td>\n",
       "      <td>44</td>\n",
       "      <td>23.004459</td>\n",
       "      <td>82.320763</td>\n",
       "      <td>7.840207</td>\n",
       "      <td>263.964248</td>\n",
       "      <td>rice</td>\n",
       "    </tr>\n",
       "    <tr>\n",
       "      <th>3</th>\n",
       "      <td>74</td>\n",
       "      <td>35</td>\n",
       "      <td>40</td>\n",
       "      <td>26.491096</td>\n",
       "      <td>80.158363</td>\n",
       "      <td>6.980401</td>\n",
       "      <td>242.864034</td>\n",
       "      <td>rice</td>\n",
       "    </tr>\n",
       "    <tr>\n",
       "      <th>4</th>\n",
       "      <td>78</td>\n",
       "      <td>42</td>\n",
       "      <td>42</td>\n",
       "      <td>20.130175</td>\n",
       "      <td>81.604873</td>\n",
       "      <td>7.628473</td>\n",
       "      <td>262.717340</td>\n",
       "      <td>rice</td>\n",
       "    </tr>\n",
       "  </tbody>\n",
       "</table>\n",
       "</div>"
      ],
      "text/plain": [
       "    N   P   K  temperature   humidity        ph    rainfall label\n",
       "0  90  42  43    20.879744  82.002744  6.502985  202.935536  rice\n",
       "1  85  58  41    21.770462  80.319644  7.038096  226.655537  rice\n",
       "2  60  55  44    23.004459  82.320763  7.840207  263.964248  rice\n",
       "3  74  35  40    26.491096  80.158363  6.980401  242.864034  rice\n",
       "4  78  42  42    20.130175  81.604873  7.628473  262.717340  rice"
      ]
     },
     "execution_count": 2,
     "metadata": {},
     "output_type": "execute_result"
    }
   ],
   "source": [
    "crop_df = pd.read_csv('Crop_recommendation.csv')\n",
    "crop_df.head()"
   ]
  },
  {
   "cell_type": "markdown",
   "id": "1fc49108",
   "metadata": {
    "papermill": {
     "duration": 0.031688,
     "end_time": "2022-01-26T05:44:21.022350",
     "exception": false,
     "start_time": "2022-01-26T05:44:20.990662",
     "status": "completed"
    },
    "tags": []
   },
   "source": [
    "### **Shape of Dataset**"
   ]
  },
  {
   "cell_type": "code",
   "execution_count": 3,
   "id": "812692bd",
   "metadata": {
    "execution": {
     "iopub.execute_input": "2022-01-26T05:44:21.091041Z",
     "iopub.status.busy": "2022-01-26T05:44:21.088390Z",
     "iopub.status.idle": "2022-01-26T05:44:21.094000Z",
     "shell.execute_reply": "2022-01-26T05:44:21.094449Z",
     "shell.execute_reply.started": "2022-01-26T05:39:25.779395Z"
    },
    "papermill": {
     "duration": 0.04074,
     "end_time": "2022-01-26T05:44:21.094617",
     "exception": false,
     "start_time": "2022-01-26T05:44:21.053877",
     "status": "completed"
    },
    "tags": []
   },
   "outputs": [
    {
     "data": {
      "text/plain": [
       "(2200, 8)"
      ]
     },
     "execution_count": 3,
     "metadata": {},
     "output_type": "execute_result"
    }
   ],
   "source": [
    "crop_df.shape"
   ]
  },
  {
   "cell_type": "markdown",
   "id": "3490ffa9",
   "metadata": {
    "papermill": {
     "duration": 0.030693,
     "end_time": "2022-01-26T05:44:21.156154",
     "exception": false,
     "start_time": "2022-01-26T05:44:21.125461",
     "status": "completed"
    },
    "tags": []
   },
   "source": [
    "### Dataset contains 2200 records and 8 columns."
   ]
  },
  {
   "cell_type": "markdown",
   "id": "947aad9d",
   "metadata": {
    "papermill": {
     "duration": 0.032504,
     "end_time": "2022-01-26T05:44:21.220024",
     "exception": false,
     "start_time": "2022-01-26T05:44:21.187520",
     "status": "completed"
    },
    "tags": []
   },
   "source": [
    "### **Check whether Dataset contains NULL values or not**"
   ]
  },
  {
   "cell_type": "code",
   "execution_count": 4,
   "id": "181df552",
   "metadata": {
    "execution": {
     "iopub.execute_input": "2022-01-26T05:44:21.290090Z",
     "iopub.status.busy": "2022-01-26T05:44:21.287444Z",
     "iopub.status.idle": "2022-01-26T05:44:21.292328Z",
     "shell.execute_reply": "2022-01-26T05:44:21.292933Z",
     "shell.execute_reply.started": "2022-01-26T05:39:25.787715Z"
    },
    "papermill": {
     "duration": 0.042149,
     "end_time": "2022-01-26T05:44:21.293101",
     "exception": false,
     "start_time": "2022-01-26T05:44:21.250952",
     "status": "completed"
    },
    "tags": []
   },
   "outputs": [
    {
     "data": {
      "text/plain": [
       "N              0\n",
       "P              0\n",
       "K              0\n",
       "temperature    0\n",
       "humidity       0\n",
       "ph             0\n",
       "rainfall       0\n",
       "label          0\n",
       "dtype: int64"
      ]
     },
     "execution_count": 4,
     "metadata": {},
     "output_type": "execute_result"
    }
   ],
   "source": [
    "crop_df.isnull().sum()"
   ]
  },
  {
   "cell_type": "markdown",
   "id": "413a10aa",
   "metadata": {
    "papermill": {
     "duration": 0.031043,
     "end_time": "2022-01-26T05:44:21.355186",
     "exception": false,
     "start_time": "2022-01-26T05:44:21.324143",
     "status": "completed"
    },
    "tags": []
   },
   "source": [
    "### There are no null values present in our dataset."
   ]
  },
  {
   "cell_type": "code",
   "execution_count": 5,
   "id": "3315a2e8",
   "metadata": {
    "execution": {
     "iopub.execute_input": "2022-01-26T05:44:21.420665Z",
     "iopub.status.busy": "2022-01-26T05:44:21.419977Z",
     "iopub.status.idle": "2022-01-26T05:44:21.432979Z",
     "shell.execute_reply": "2022-01-26T05:44:21.433506Z",
     "shell.execute_reply.started": "2022-01-26T05:39:25.803139Z"
    },
    "papermill": {
     "duration": 0.047338,
     "end_time": "2022-01-26T05:44:21.433678",
     "exception": false,
     "start_time": "2022-01-26T05:44:21.386340",
     "status": "completed"
    },
    "tags": []
   },
   "outputs": [],
   "source": [
    "crop_df['no_label'] = pd.Categorical(crop_df.label).codes"
   ]
  },
  {
   "cell_type": "markdown",
   "id": "9bc47f82",
   "metadata": {
    "papermill": {
     "duration": 0.030571,
     "end_time": "2022-01-26T05:44:21.495473",
     "exception": false,
     "start_time": "2022-01-26T05:44:21.464902",
     "status": "completed"
    },
    "tags": []
   },
   "source": [
    "### **EDA**"
   ]
  },
  {
   "cell_type": "markdown",
   "id": "fe31fd4a",
   "metadata": {
    "papermill": {
     "duration": 0.031212,
     "end_time": "2022-01-26T05:44:21.557734",
     "exception": false,
     "start_time": "2022-01-26T05:44:21.526522",
     "status": "completed"
    },
    "tags": []
   },
   "source": [
    "### 1]Nitrogen"
   ]
  },
  {
   "cell_type": "code",
   "execution_count": 6,
   "id": "d7a98396",
   "metadata": {
    "execution": {
     "iopub.execute_input": "2022-01-26T05:44:21.623079Z",
     "iopub.status.busy": "2022-01-26T05:44:21.622434Z",
     "iopub.status.idle": "2022-01-26T05:44:21.937911Z",
     "shell.execute_reply": "2022-01-26T05:44:21.938384Z",
     "shell.execute_reply.started": "2022-01-26T05:39:25.820888Z"
    },
    "papermill": {
     "duration": 0.34966,
     "end_time": "2022-01-26T05:44:21.938561",
     "exception": false,
     "start_time": "2022-01-26T05:44:21.588901",
     "status": "completed"
    },
    "tags": []
   },
   "outputs": [
    {
     "data": {
      "image/png": "[encoded data removed]",
      "text/plain": [
       "<Figure size 576x504 with 1 Axes>"
      ]
     },
     "metadata": {
      "needs_background": "light"
     },
     "output_type": "display_data"
    }
   ],
   "source": [
    "plt.figure(figsize=(8,7))\n",
    "sns.histplot(x='N',data=crop_df,color='b');\n",
    "plt.title(\"Nitrogen for crops\",{'fontsize':20});"
   ]
  },
  {
   "cell_type": "markdown",
   "id": "18d976b5",
   "metadata": {
    "papermill": {
     "duration": 0.031679,
     "end_time": "2022-01-26T05:44:22.002225",
     "exception": false,
     "start_time": "2022-01-26T05:44:21.970546",
     "status": "completed"
    },
    "tags": []
   },
   "source": [
    "### Nitrogen is an essential nutrient for plant growth, development and reproduction.Soil nitrogen exists in three general forms: organic nitrogen compounds, ammonium (NH₄⁺) ions and nitrate (NO₃⁻) ions."
   ]
  },
  {
   "cell_type": "markdown",
   "id": "f37902cc",
   "metadata": {
    "papermill": {
     "duration": 0.032189,
     "end_time": "2022-01-26T05:44:22.066213",
     "exception": false,
     "start_time": "2022-01-26T05:44:22.034024",
     "status": "completed"
    },
    "tags": []
   },
   "source": [
    "### 2]Potassium "
   ]
  },
  {
   "cell_type": "code",
   "execution_count": 7,
   "id": "69d00b93",
   "metadata": {
    "execution": {
     "iopub.execute_input": "2022-01-26T05:44:22.136392Z",
     "iopub.status.busy": "2022-01-26T05:44:22.135653Z",
     "iopub.status.idle": "2022-01-26T05:44:22.469911Z",
     "shell.execute_reply": "2022-01-26T05:44:22.470411Z",
     "shell.execute_reply.started": "2022-01-26T05:39:26.142536Z"
    },
    "papermill": {
     "duration": 0.371615,
     "end_time": "2022-01-26T05:44:22.470584",
     "exception": false,
     "start_time": "2022-01-26T05:44:22.098969",
     "status": "completed"
    },
    "tags": []
   },
   "outputs": [
    {
     "data": {
      "image/png": "[encoded data removed]",
      "text/plain": [
       "<Figure size 576x504 with 1 Axes>"
      ]
     },
     "metadata": {
      "needs_background": "light"
     },
     "output_type": "display_data"
    }
   ],
   "source": [
    "plt.figure(figsize=(8,7))\n",
    "sns.histplot(x='K',data=crop_df,color='b');\n",
    "plt.title(\"Potassium for crops\",{'fontsize':20});"
   ]
  },
  {
   "cell_type": "markdown",
   "id": "b0d585e7",
   "metadata": {
    "papermill": {
     "duration": 0.032634,
     "end_time": "2022-01-26T05:44:22.535834",
     "exception": false,
     "start_time": "2022-01-26T05:44:22.503200",
     "status": "completed"
    },
    "tags": []
   },
   "source": [
    "### Importance of Potassium in Plants:\n",
    "### The rate of respiration by plants is largely the determining factor for proper uptake and transport of potassium by plants.\n",
    "### Potassium also facilitates protein and starch synthesis in plants.\n",
    "### It activates enzymes responsible for specific functions. "
   ]
  },
  {
   "cell_type": "markdown",
   "id": "593a61db",
   "metadata": {
    "papermill": {
     "duration": 0.032675,
     "end_time": "2022-01-26T05:44:22.602570",
     "exception": false,
     "start_time": "2022-01-26T05:44:22.569895",
     "status": "completed"
    },
    "tags": []
   },
   "source": [
    "### 3]Phosphorus "
   ]
  },
  {
   "cell_type": "code",
   "execution_count": 8,
   "id": "e90c1bb9",
   "metadata": {
    "execution": {
     "iopub.execute_input": "2022-01-26T05:44:22.676881Z",
     "iopub.status.busy": "2022-01-26T05:44:22.671605Z",
     "iopub.status.idle": "2022-01-26T05:44:22.969349Z",
     "shell.execute_reply": "2022-01-26T05:44:22.969899Z",
     "shell.execute_reply.started": "2022-01-26T05:39:26.484942Z"
    },
    "papermill": {
     "duration": 0.334037,
     "end_time": "2022-01-26T05:44:22.970065",
     "exception": false,
     "start_time": "2022-01-26T05:44:22.636028",
     "status": "completed"
    },
    "tags": []
   },
   "outputs": [
    {
     "data": {
      "image/png": "[encoded data removed]",
      "text/plain": [
       "<Figure size 576x504 with 1 Axes>"
      ]
     },
     "metadata": {
      "needs_background": "light"
     },
     "output_type": "display_data"
    }
   ],
   "source": [
    "plt.figure(figsize=(8,7))\n",
    "sns.histplot(x='P',data=crop_df,color='b');\n",
    "plt.title(\"Phosphorus for crops\",{'fontsize':20});"
   ]
  },
  {
   "cell_type": "markdown",
   "id": "c5b6dfb0",
   "metadata": {
    "papermill": {
     "duration": 0.0337,
     "end_time": "2022-01-26T05:44:23.037368",
     "exception": false,
     "start_time": "2022-01-26T05:44:23.003668",
     "status": "completed"
    },
    "tags": []
   },
   "source": [
    "### Importance of Phosphorus to Plants :\n",
    "### Phosphorus is important for cell division and development of new tissues.\n",
    "### Adding phosphrous to plants helps for root growth.\n",
    "### It also recomend for early growth of plants."
   ]
  },
  {
   "cell_type": "code",
   "execution_count": 9,
   "id": "e386fd3b",
   "metadata": {
    "execution": {
     "iopub.execute_input": "2022-01-26T05:44:23.111343Z",
     "iopub.status.busy": "2022-01-26T05:44:23.110639Z",
     "iopub.status.idle": "2022-01-26T05:44:23.114899Z",
     "shell.execute_reply": "2022-01-26T05:44:23.114377Z",
     "shell.execute_reply.started": "2022-01-26T05:39:26.771182Z"
    },
    "papermill": {
     "duration": 0.042862,
     "end_time": "2022-01-26T05:44:23.115044",
     "exception": false,
     "start_time": "2022-01-26T05:44:23.072182",
     "status": "completed"
    },
    "tags": []
   },
   "outputs": [
    {
     "data": {
      "text/plain": [
       "Index(['N', 'P', 'K', 'temperature', 'humidity', 'ph', 'rainfall', 'label',\n",
       "       'no_label'],\n",
       "      dtype='object')"
      ]
     },
     "execution_count": 9,
     "metadata": {},
     "output_type": "execute_result"
    }
   ],
   "source": [
    "crop_df.columns"
   ]
  },
  {
   "cell_type": "markdown",
   "id": "dc785d4e",
   "metadata": {
    "papermill": {
     "duration": 0.033544,
     "end_time": "2022-01-26T05:44:23.182605",
     "exception": false,
     "start_time": "2022-01-26T05:44:23.149061",
     "status": "completed"
    },
    "tags": []
   },
   "source": [
    "### 4]Temperature"
   ]
  },
  {
   "cell_type": "code",
   "execution_count": 10,
   "id": "47c6f67c",
   "metadata": {
    "execution": {
     "iopub.execute_input": "2022-01-26T05:44:23.258954Z",
     "iopub.status.busy": "2022-01-26T05:44:23.258236Z",
     "iopub.status.idle": "2022-01-26T05:44:23.433889Z",
     "shell.execute_reply": "2022-01-26T05:44:23.434368Z",
     "shell.execute_reply.started": "2022-01-26T05:39:26.779661Z"
    },
    "papermill": {
     "duration": 0.218158,
     "end_time": "2022-01-26T05:44:23.434533",
     "exception": false,
     "start_time": "2022-01-26T05:44:23.216375",
     "status": "completed"
    },
    "tags": []
   },
   "outputs": [
    {
     "data": {
      "image/png": "[encoded data removed]",
      "text/plain": [
       "<Figure size 720x432 with 1 Axes>"
      ]
     },
     "metadata": {
      "needs_background": "light"
     },
     "output_type": "display_data"
    }
   ],
   "source": [
    "plt.figure(figsize=(10,6))\n",
    "sns.boxplot(x=crop_df.temperature);"
   ]
  },
  {
   "cell_type": "markdown",
   "id": "0a93cabb",
   "metadata": {
    "papermill": {
     "duration": 0.034305,
     "end_time": "2022-01-26T05:44:23.503610",
     "exception": false,
     "start_time": "2022-01-26T05:44:23.469305",
     "status": "completed"
    },
    "tags": []
   },
   "source": [
    "### 5]Humidity"
   ]
  },
  {
   "cell_type": "code",
   "execution_count": 11,
   "id": "961d7a85",
   "metadata": {
    "execution": {
     "iopub.execute_input": "2022-01-26T05:44:23.575684Z",
     "iopub.status.busy": "2022-01-26T05:44:23.575070Z",
     "iopub.status.idle": "2022-01-26T05:44:23.739392Z",
     "shell.execute_reply": "2022-01-26T05:44:23.739919Z",
     "shell.execute_reply.started": "2022-01-26T05:39:26.973704Z"
    },
    "papermill": {
     "duration": 0.202015,
     "end_time": "2022-01-26T05:44:23.740093",
     "exception": false,
     "start_time": "2022-01-26T05:44:23.538078",
     "status": "completed"
    },
    "tags": []
   },
   "outputs": [
    {
     "data": {
      "image/png": "[encoded data removed]",
      "text/plain": [
       "<Figure size 720x432 with 1 Axes>"
      ]
     },
     "metadata": {
      "needs_background": "light"
     },
     "output_type": "display_data"
    }
   ],
   "source": [
    "plt.figure(figsize=(10,6))\n",
    "sns.boxplot(x=crop_df.humidity);"
   ]
  },
  {
   "cell_type": "markdown",
   "id": "dfdc7ca5",
   "metadata": {
    "papermill": {
     "duration": 0.034844,
     "end_time": "2022-01-26T05:44:23.809924",
     "exception": false,
     "start_time": "2022-01-26T05:44:23.775080",
     "status": "completed"
    },
    "tags": []
   },
   "source": [
    "### 6]PH"
   ]
  },
  {
   "cell_type": "code",
   "execution_count": 12,
   "id": "de2d50da",
   "metadata": {
    "execution": {
     "iopub.execute_input": "2022-01-26T05:44:23.883423Z",
     "iopub.status.busy": "2022-01-26T05:44:23.882831Z",
     "iopub.status.idle": "2022-01-26T05:44:24.211468Z",
     "shell.execute_reply": "2022-01-26T05:44:24.210876Z",
     "shell.execute_reply.started": "2022-01-26T05:39:27.146333Z"
    },
    "papermill": {
     "duration": 0.366415,
     "end_time": "2022-01-26T05:44:24.211600",
     "exception": false,
     "start_time": "2022-01-26T05:44:23.845185",
     "status": "completed"
    },
    "tags": []
   },
   "outputs": [
    {
     "data": {
      "image/png": "[encoded data removed]",
      "text/plain": [
       "<Figure size 576x504 with 1 Axes>"
      ]
     },
     "metadata": {
      "needs_background": "light"
     },
     "output_type": "display_data"
    }
   ],
   "source": [
    "plt.figure(figsize=(8,7))\n",
    "sns.histplot(x='ph',data=crop_df,color='b');\n",
    "plt.title(\"PH for crops\",{'fontsize':20});"
   ]
  },
  {
   "cell_type": "markdown",
   "id": "11ebc4af",
   "metadata": {
    "papermill": {
     "duration": 0.036004,
     "end_time": "2022-01-26T05:44:24.283930",
     "exception": false,
     "start_time": "2022-01-26T05:44:24.247926",
     "status": "completed"
    },
    "tags": []
   },
   "source": [
    "### pH stands for ‘potential of hydrogen’ and refers to the amount of hydrogen found in the soil.\n",
    "### Importance of PH to plants :\n",
    "### pH can affect a plant’s ability to absorb vital nutrients from the soil. If pH is too acidic or alkaline, this can stunt or retard root growth and consequently, restrict water and nutrient uptake."
   ]
  },
  {
   "cell_type": "markdown",
   "id": "c37f3d08",
   "metadata": {
    "papermill": {
     "duration": 0.036273,
     "end_time": "2022-01-26T05:44:24.356273",
     "exception": false,
     "start_time": "2022-01-26T05:44:24.320000",
     "status": "completed"
    },
    "tags": []
   },
   "source": [
    "### 7]Rainfall"
   ]
  },
  {
   "cell_type": "code",
   "execution_count": 13,
   "id": "c0383c18",
   "metadata": {
    "execution": {
     "iopub.execute_input": "2022-01-26T05:44:24.577671Z",
     "iopub.status.busy": "2022-01-26T05:44:24.571886Z",
     "iopub.status.idle": "2022-01-26T05:44:24.845100Z",
     "shell.execute_reply": "2022-01-26T05:44:24.845623Z",
     "shell.execute_reply.started": "2022-01-26T05:39:27.483931Z"
    },
    "papermill": {
     "duration": 0.453422,
     "end_time": "2022-01-26T05:44:24.845846",
     "exception": false,
     "start_time": "2022-01-26T05:44:24.392424",
     "status": "completed"
    },
    "tags": []
   },
   "outputs": [
    {
     "data": {
      "image/png": "[encoded data removed]",
      "text/plain": [
       "<Figure size 576x504 with 1 Axes>"
      ]
     },
     "metadata": {
      "needs_background": "light"
     },
     "output_type": "display_data"
    }
   ],
   "source": [
    "plt.figure(figsize=(8,7))\n",
    "sns.histplot(x='rainfall',data=crop_df,color='b');\n",
    "plt.title(\"Rainfall feature\",{'fontsize':20});"
   ]
  },
  {
   "cell_type": "markdown",
   "id": "50359528",
   "metadata": {
    "papermill": {
     "duration": 0.036472,
     "end_time": "2022-01-26T05:44:24.920047",
     "exception": false,
     "start_time": "2022-01-26T05:44:24.883575",
     "status": "completed"
    },
    "tags": []
   },
   "source": [
    "### Split data"
   ]
  },
  {
   "cell_type": "code",
   "execution_count": 14,
   "id": "09022d0e",
   "metadata": {
    "execution": {
     "iopub.execute_input": "2022-01-26T05:44:24.996940Z",
     "iopub.status.busy": "2022-01-26T05:44:24.996293Z",
     "iopub.status.idle": "2022-01-26T05:44:25.000970Z",
     "shell.execute_reply": "2022-01-26T05:44:25.001443Z",
     "shell.execute_reply.started": "2022-01-26T05:39:27.909230Z"
    },
    "papermill": {
     "duration": 0.04481,
     "end_time": "2022-01-26T05:44:25.001602",
     "exception": false,
     "start_time": "2022-01-26T05:44:24.956792",
     "status": "completed"
    },
    "tags": []
   },
   "outputs": [],
   "source": [
    "X = crop_df.drop(['label','no_label'],axis=1)\n",
    "y = crop_df.no_label"
   ]
  },
  {
   "cell_type": "code",
   "execution_count": 15,
   "id": "01495ce3",
   "metadata": {
    "execution": {
     "iopub.execute_input": "2022-01-26T05:44:25.078418Z",
     "iopub.status.busy": "2022-01-26T05:44:25.077790Z",
     "iopub.status.idle": "2022-01-26T05:44:25.084401Z",
     "shell.execute_reply": "2022-01-26T05:44:25.084878Z",
     "shell.execute_reply.started": "2022-01-26T05:39:27.916451Z"
    },
    "papermill": {
     "duration": 0.046333,
     "end_time": "2022-01-26T05:44:25.085056",
     "exception": false,
     "start_time": "2022-01-26T05:44:25.038723",
     "status": "completed"
    },
    "tags": []
   },
   "outputs": [],
   "source": [
    "X_train,X_test,y_train,y_test = train_test_split(X,y,test_size=0.2)"
   ]
  },
  {
   "cell_type": "markdown",
   "id": "b4dbe516",
   "metadata": {
    "papermill": {
     "duration": 0.036189,
     "end_time": "2022-01-26T05:44:25.158095",
     "exception": false,
     "start_time": "2022-01-26T05:44:25.121906",
     "status": "completed"
    },
    "tags": []
   },
   "source": [
    "### Feature Scaling"
   ]
  },
  {
   "cell_type": "code",
   "execution_count": 16,
   "id": "28580376",
   "metadata": {
    "execution": {
     "iopub.execute_input": "2022-01-26T05:44:25.234383Z",
     "iopub.status.busy": "2022-01-26T05:44:25.233791Z",
     "iopub.status.idle": "2022-01-26T05:44:25.244603Z",
     "shell.execute_reply": "2022-01-26T05:44:25.245155Z",
     "shell.execute_reply.started": "2022-01-26T05:39:27.931719Z"
    },
    "papermill": {
     "duration": 0.050736,
     "end_time": "2022-01-26T05:44:25.245321",
     "exception": false,
     "start_time": "2022-01-26T05:44:25.194585",
     "status": "completed"
    },
    "tags": []
   },
   "outputs": [
    {
     "data": {
      "text/html": [
       "<div>\n",
       "<style scoped>\n",
       "    .dataframe tbody tr th:only-of-type {\n",
       "        vertical-align: middle;\n",
       "    }\n",
       "\n",
       "    .dataframe tbody tr th {\n",
       "        vertical-align: top;\n",
       "    }\n",
       "\n",
       "    .dataframe thead th {\n",
       "        text-align: right;\n",
       "    }\n",
       "</style>\n",
       "<table border=\"1\" class=\"dataframe\">\n",
       "  <thead>\n",
       "    <tr style=\"text-align: right;\">\n",
       "      <th></th>\n",
       "      <th>N</th>\n",
       "      <th>P</th>\n",
       "      <th>K</th>\n",
       "      <th>temperature</th>\n",
       "      <th>humidity</th>\n",
       "      <th>ph</th>\n",
       "      <th>rainfall</th>\n",
       "    </tr>\n",
       "  </thead>\n",
       "  <tbody>\n",
       "    <tr>\n",
       "      <th>1929</th>\n",
       "      <td>108</td>\n",
       "      <td>36</td>\n",
       "      <td>19</td>\n",
       "      <td>22.782496</td>\n",
       "      <td>77.512350</td>\n",
       "      <td>7.238567</td>\n",
       "      <td>64.614442</td>\n",
       "    </tr>\n",
       "    <tr>\n",
       "      <th>503</th>\n",
       "      <td>4</td>\n",
       "      <td>43</td>\n",
       "      <td>18</td>\n",
       "      <td>29.029553</td>\n",
       "      <td>61.093875</td>\n",
       "      <td>8.840656</td>\n",
       "      <td>72.980166</td>\n",
       "    </tr>\n",
       "    <tr>\n",
       "      <th>2039</th>\n",
       "      <td>90</td>\n",
       "      <td>48</td>\n",
       "      <td>45</td>\n",
       "      <td>24.064757</td>\n",
       "      <td>71.313429</td>\n",
       "      <td>6.509175</td>\n",
       "      <td>153.639021</td>\n",
       "    </tr>\n",
       "    <tr>\n",
       "      <th>1034</th>\n",
       "      <td>94</td>\n",
       "      <td>91</td>\n",
       "      <td>51</td>\n",
       "      <td>29.160934</td>\n",
       "      <td>76.674842</td>\n",
       "      <td>5.618094</td>\n",
       "      <td>109.575944</td>\n",
       "    </tr>\n",
       "    <tr>\n",
       "      <th>1304</th>\n",
       "      <td>93</td>\n",
       "      <td>22</td>\n",
       "      <td>52</td>\n",
       "      <td>26.587407</td>\n",
       "      <td>81.325632</td>\n",
       "      <td>6.932740</td>\n",
       "      <td>41.875400</td>\n",
       "    </tr>\n",
       "  </tbody>\n",
       "</table>\n",
       "</div>"
      ],
      "text/plain": [
       "        N   P   K  temperature   humidity        ph    rainfall\n",
       "1929  108  36  19    22.782496  77.512350  7.238567   64.614442\n",
       "503     4  43  18    29.029553  61.093875  8.840656   72.980166\n",
       "2039   90  48  45    24.064757  71.313429  6.509175  153.639021\n",
       "1034   94  91  51    29.160934  76.674842  5.618094  109.575944\n",
       "1304   93  22  52    26.587407  81.325632  6.932740   41.875400"
      ]
     },
     "execution_count": 16,
     "metadata": {},
     "output_type": "execute_result"
    }
   ],
   "source": [
    "X_train.head()"
   ]
  },
  {
   "cell_type": "code",
   "execution_count": 17,
   "id": "69f866d1",
   "metadata": {
    "execution": {
     "iopub.execute_input": "2022-01-26T05:44:25.322582Z",
     "iopub.status.busy": "2022-01-26T05:44:25.321975Z",
     "iopub.status.idle": "2022-01-26T05:44:25.330793Z",
     "shell.execute_reply": "2022-01-26T05:44:25.331289Z",
     "shell.execute_reply.started": "2022-01-26T05:39:27.950816Z"
    },
    "papermill": {
     "duration": 0.049168,
     "end_time": "2022-01-26T05:44:25.331453",
     "exception": false,
     "start_time": "2022-01-26T05:44:25.282285",
     "status": "completed"
    },
    "tags": []
   },
   "outputs": [],
   "source": [
    "scalar = StandardScaler()\n",
    "X_train = scalar.fit_transform(X_train)\n",
    "X_test = scalar.transform(X_test)"
   ]
  },
  {
   "cell_type": "markdown",
   "id": "c29ae378",
   "metadata": {
    "papermill": {
     "duration": 0.036609,
     "end_time": "2022-01-26T05:44:25.405519",
     "exception": false,
     "start_time": "2022-01-26T05:44:25.368910",
     "status": "completed"
    },
    "tags": []
   },
   "source": [
    "### Build Model"
   ]
  },
  {
   "cell_type": "code",
   "execution_count": 18,
   "id": "b54b0177",
   "metadata": {
    "execution": {
     "iopub.execute_input": "2022-01-26T05:44:25.482874Z",
     "iopub.status.busy": "2022-01-26T05:44:25.482273Z",
     "iopub.status.idle": "2022-01-26T05:44:26.380077Z",
     "shell.execute_reply": "2022-01-26T05:44:26.379274Z",
     "shell.execute_reply.started": "2022-01-26T05:39:27.968442Z"
    },
    "papermill": {
     "duration": 0.937912,
     "end_time": "2022-01-26T05:44:26.380282",
     "exception": false,
     "start_time": "2022-01-26T05:44:25.442370",
     "status": "completed"
    },
    "tags": []
   },
   "outputs": [
    {
     "name": "stdout",
     "output_type": "stream",
     "text": [
      "Accuracy Score for Logistic Regression is :  97.04545454545455 %\n",
      "Accuracy Score for Random Forest is :  99.77272727272727 %\n",
      "Accuracy Score for Support Vector Machine is :  98.86363636363636 %\n"
     ]
    }
   ],
   "source": [
    "models = {\n",
    "    LogisticRegression(max_iter=500):'Logistic Regression',\n",
    "    RandomForestClassifier():'Random Forest',\n",
    "    SVC():'Support Vector Machine'\n",
    "}\n",
    "for m in models.keys():\n",
    "    m.fit(X_train,y_train)\n",
    "for model,name in models.items():\n",
    "     print(f\"Accuracy Score for {name} is : \",model.score(X_test,y_test)*100,\"%\")"
   ]
  },
  {
   "cell_type": "markdown",
   "id": "26638d3e",
   "metadata": {
    "papermill": {
     "duration": 0.037456,
     "end_time": "2022-01-26T05:44:26.456850",
     "exception": false,
     "start_time": "2022-01-26T05:44:26.419394",
     "status": "completed"
    },
    "tags": []
   },
   "source": [
    "**Random Forest Gives higher accuracy as compared to other models.**"
   ]
  },
  {
   "cell_type": "code",
   "execution_count": 19,
   "id": "be639c8f",
   "metadata": {
    "execution": {
     "iopub.execute_input": "2022-01-26T05:44:26.536222Z",
     "iopub.status.busy": "2022-01-26T05:44:26.535192Z",
     "iopub.status.idle": "2022-01-26T05:44:26.945511Z",
     "shell.execute_reply": "2022-01-26T05:44:26.945007Z",
     "shell.execute_reply.started": "2022-01-26T05:39:28.902335Z"
    },
    "papermill": {
     "duration": 0.451161,
     "end_time": "2022-01-26T05:44:26.945646",
     "exception": false,
     "start_time": "2022-01-26T05:44:26.494485",
     "status": "completed"
    },
    "tags": []
   },
   "outputs": [
    {
     "data": {
      "text/plain": [
       "RandomForestClassifier()"
      ]
     },
     "execution_count": 19,
     "metadata": {},
     "output_type": "execute_result"
    }
   ],
   "source": [
    "rf = RandomForestClassifier()\n",
    "rf.fit(X_train,y_train)"
   ]
  },
  {
   "cell_type": "code",
   "execution_count": 20,
   "id": "f476b2d3",
   "metadata": {
    "execution": {
     "iopub.execute_input": "2022-01-26T05:44:27.025157Z",
     "iopub.status.busy": "2022-01-26T05:44:27.024507Z",
     "iopub.status.idle": "2022-01-26T05:44:27.046147Z",
     "shell.execute_reply": "2022-01-26T05:44:27.046671Z",
     "shell.execute_reply.started": "2022-01-26T05:39:29.317929Z"
    },
    "papermill": {
     "duration": 0.063123,
     "end_time": "2022-01-26T05:44:27.046864",
     "exception": false,
     "start_time": "2022-01-26T05:44:26.983741",
     "status": "completed"
    },
    "tags": []
   },
   "outputs": [],
   "source": [
    "y_pred = rf.predict(X_test)"
   ]
  },
  {
   "cell_type": "markdown",
   "id": "4dbc3579",
   "metadata": {
    "papermill": {
     "duration": 0.038391,
     "end_time": "2022-01-26T05:44:27.124533",
     "exception": false,
     "start_time": "2022-01-26T05:44:27.086142",
     "status": "completed"
    },
    "tags": []
   },
   "source": [
    "crop_labels = {0:'apple',1:'banana',2:'blackgram',3:'chickpea',4:'coconut',5:'coffee',6:'cotton',7:'grapes',8:'jute',9:'kidneybeans',\n",
    "9:'lentil',10:'maize',12:'mango',13:'mothbeans',14:'mungbean',15:'muskmelon',16:'orange',17:'papaya',18:'pigeonpeas',19:'pomegranate',20:'rice',21:'watermelon'}"
   ]
  },
  {
   "cell_type": "code",
   "execution_count": 21,
   "id": "c479a218",
   "metadata": {
    "execution": {
     "iopub.execute_input": "2022-01-26T05:44:27.204477Z",
     "iopub.status.busy": "2022-01-26T05:44:27.203485Z",
     "iopub.status.idle": "2022-01-26T05:44:27.215796Z",
     "shell.execute_reply": "2022-01-26T05:44:27.216350Z",
     "shell.execute_reply.started": "2022-01-26T05:39:29.343251Z"
    },
    "papermill": {
     "duration": 0.05423,
     "end_time": "2022-01-26T05:44:27.216524",
     "exception": false,
     "start_time": "2022-01-26T05:44:27.162294",
     "status": "completed"
    },
    "tags": []
   },
   "outputs": [
    {
     "name": "stdout",
     "output_type": "stream",
     "text": [
      "              precision    recall  f1-score   support\n",
      "\n",
      "           0       1.00      1.00      1.00        15\n",
      "           1       1.00      1.00      1.00        17\n",
      "           2       1.00      1.00      1.00        19\n",
      "           3       1.00      1.00      1.00        15\n",
      "           4       1.00      1.00      1.00        22\n",
      "           5       1.00      1.00      1.00        15\n",
      "           6       1.00      1.00      1.00        22\n",
      "           7       1.00      1.00      1.00        26\n",
      "           8       0.95      1.00      0.98        20\n",
      "           9       1.00      1.00      1.00        20\n",
      "          10       1.00      1.00      1.00        21\n",
      "          11       1.00      1.00      1.00        17\n",
      "          12       1.00      1.00      1.00        16\n",
      "          13       1.00      1.00      1.00        17\n",
      "          14       1.00      1.00      1.00        19\n",
      "          15       1.00      1.00      1.00        27\n",
      "          16       1.00      1.00      1.00        24\n",
      "          17       1.00      1.00      1.00        28\n",
      "          18       1.00      1.00      1.00        22\n",
      "          19       1.00      1.00      1.00        15\n",
      "          20       1.00      0.96      0.98        24\n",
      "          21       1.00      1.00      1.00        19\n",
      "\n",
      "    accuracy                           1.00       440\n",
      "   macro avg       1.00      1.00      1.00       440\n",
      "weighted avg       1.00      1.00      1.00       440\n",
      "\n"
     ]
    }
   ],
   "source": [
    "print(classification_report(y_test,y_pred))"
   ]
  },
  {
   "cell_type": "code",
   "execution_count": 22,
   "id": "52ffd7dc",
   "metadata": {
    "execution": {
     "iopub.execute_input": "2022-01-26T05:44:27.302676Z",
     "iopub.status.busy": "2022-01-26T05:44:27.302023Z",
     "iopub.status.idle": "2022-01-26T05:44:29.527282Z",
     "shell.execute_reply": "2022-01-26T05:44:29.527964Z",
     "shell.execute_reply.started": "2022-01-26T05:39:29.358436Z"
    },
    "papermill": {
     "duration": 2.272578,
     "end_time": "2022-01-26T05:44:29.528145",
     "exception": false,
     "start_time": "2022-01-26T05:44:27.255567",
     "status": "completed"
    },
    "tags": []
   },
   "outputs": [
    {
     "data": {
      "image/png": "[encoded data removed]",
      "text/plain": [
       "<Figure size 432x288 with 2 Axes>"
      ]
     },
     "metadata": {
      "needs_background": "light"
     },
     "output_type": "display_data"
    }
   ],
   "source": [
    "class_names = np.arange(0,21)\n",
    "fig,ax = plt.subplots()\n",
    "tick_marks = np.arange(len(class_names))\n",
    "plt.xticks(tick_marks,class_names)\n",
    "plt.yticks(tick_marks,class_names)\n",
    "cnf_matrix = confusion_matrix(y_test,y_pred)\n",
    "sns.heatmap(pd.DataFrame(cnf_matrix), annot = True,fmt = 'd')\n",
    "ax.xaxis.set_label_position('top')\n",
    "plt.tight_layout()\n",
    "plt.title(f'Confusion Matrix for Random Forest', {'fontsize':20})\n",
    "plt.ylabel('Actual label')\n",
    "plt.xlabel('Predicted label')\n",
    "plt.show()"
   ]
  },
  {
   "cell_type": "code",
   "execution_count": null,
   "id": "1e3458f0",
   "metadata": {},
   "outputs": [],
   "source": []
  },
  {
   "cell_type": "code",
   "execution_count": null,
   "id": "efba863c",
   "metadata": {},
   "outputs": [],
   "source": []
  }
 ],
 "metadata": {
  "kernelspec": {
   "display_name": "Python 3 (ipykernel)",
   "language": "python",
   "name": "python3"
  },
  "language_info": {
   "codemirror_mode": {
    "name": "ipython",
    "version": 3
   },
   "file_extension": ".py",
   "mimetype": "text/x-python",
   "name": "python",
   "nbconvert_exporter": "python",
   "pygments_lexer": "ipython3",
   "version": "3.9.12"
  },
  "papermill": {
   "default_parameters": {},
   "duration": 21.449128,
   "end_time": "2022-01-26T05:44:30.358076",
   "environment_variables": {},
   "exception": null,
   "input_path": "__notebook__.ipynb",
   "output_path": "__notebook__.ipynb",
   "parameters": {},
   "start_time": "2022-01-26T05:44:08.908948",
   "version": "2.3.3"
  },
  "vscode": {
   "interpreter": {
    "hash": "44a6967a4f64c6f0b2def69ea76a6089b1a3c2fff90878d7452103903aa0d7fe"
   }
  }
 },
 "nbformat": 4,
 "nbformat_minor": 5
}
